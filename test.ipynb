{
 "cells": [
  {
   "cell_type": "code",
   "execution_count": 1,
   "id": "e8df193f",
   "metadata": {},
   "outputs": [
    {
     "name": "stdout",
     "output_type": "stream",
     "text": [
      "Requirement already satisfied: transformers in c:\\users\\vlad\\miniconda3\\envs\\nlp\\lib\\site-packages (4.56.1)\n",
      "Requirement already satisfied: torch in c:\\users\\vlad\\miniconda3\\envs\\nlp\\lib\\site-packages (2.8.0)\n",
      "Requirement already satisfied: accelerate in c:\\users\\vlad\\miniconda3\\envs\\nlp\\lib\\site-packages (1.10.1)\n",
      "Requirement already satisfied: filelock in c:\\users\\vlad\\miniconda3\\envs\\nlp\\lib\\site-packages (from transformers) (3.19.1)\n",
      "Requirement already satisfied: huggingface-hub<1.0,>=0.34.0 in c:\\users\\vlad\\miniconda3\\envs\\nlp\\lib\\site-packages (from transformers) (0.34.4)\n",
      "Requirement already satisfied: numpy>=1.17 in c:\\users\\vlad\\miniconda3\\envs\\nlp\\lib\\site-packages (from transformers) (1.26.4)\n",
      "Requirement already satisfied: packaging>=20.0 in c:\\users\\vlad\\miniconda3\\envs\\nlp\\lib\\site-packages (from transformers) (25.0)\n",
      "Requirement already satisfied: pyyaml>=5.1 in c:\\users\\vlad\\miniconda3\\envs\\nlp\\lib\\site-packages (from transformers) (6.0.2)\n",
      "Requirement already satisfied: regex!=2019.12.17 in c:\\users\\vlad\\miniconda3\\envs\\nlp\\lib\\site-packages (from transformers) (2025.7.34)\n",
      "Requirement already satisfied: requests in c:\\users\\vlad\\miniconda3\\envs\\nlp\\lib\\site-packages (from transformers) (2.32.5)\n",
      "Requirement already satisfied: tokenizers<=0.23.0,>=0.22.0 in c:\\users\\vlad\\miniconda3\\envs\\nlp\\lib\\site-packages (from transformers) (0.22.0)\n",
      "Requirement already satisfied: safetensors>=0.4.3 in c:\\users\\vlad\\miniconda3\\envs\\nlp\\lib\\site-packages (from transformers) (0.6.2)\n",
      "Requirement already satisfied: tqdm>=4.27 in c:\\users\\vlad\\miniconda3\\envs\\nlp\\lib\\site-packages (from transformers) (4.67.1)\n",
      "Requirement already satisfied: fsspec>=2023.5.0 in c:\\users\\vlad\\miniconda3\\envs\\nlp\\lib\\site-packages (from huggingface-hub<1.0,>=0.34.0->transformers) (2025.3.0)\n",
      "Requirement already satisfied: typing-extensions>=3.7.4.3 in c:\\users\\vlad\\miniconda3\\envs\\nlp\\lib\\site-packages (from huggingface-hub<1.0,>=0.34.0->transformers) (4.15.0)\n",
      "Requirement already satisfied: sympy>=1.13.3 in c:\\users\\vlad\\miniconda3\\envs\\nlp\\lib\\site-packages (from torch) (1.14.0)\n",
      "Requirement already satisfied: networkx in c:\\users\\vlad\\miniconda3\\envs\\nlp\\lib\\site-packages (from torch) (3.5)\n",
      "Requirement already satisfied: jinja2 in c:\\users\\vlad\\miniconda3\\envs\\nlp\\lib\\site-packages (from torch) (3.1.6)\n",
      "Requirement already satisfied: setuptools in c:\\users\\vlad\\miniconda3\\envs\\nlp\\lib\\site-packages (from torch) (78.1.1)\n",
      "Requirement already satisfied: psutil in c:\\users\\vlad\\miniconda3\\envs\\nlp\\lib\\site-packages (from accelerate) (5.9.0)\n",
      "Requirement already satisfied: mpmath<1.4,>=1.1.0 in c:\\users\\vlad\\miniconda3\\envs\\nlp\\lib\\site-packages (from sympy>=1.13.3->torch) (1.3.0)\n",
      "Requirement already satisfied: colorama in c:\\users\\vlad\\miniconda3\\envs\\nlp\\lib\\site-packages (from tqdm>=4.27->transformers) (0.4.6)\n",
      "Requirement already satisfied: MarkupSafe>=2.0 in c:\\users\\vlad\\miniconda3\\envs\\nlp\\lib\\site-packages (from jinja2->torch) (3.0.2)\n",
      "Requirement already satisfied: charset_normalizer<4,>=2 in c:\\users\\vlad\\miniconda3\\envs\\nlp\\lib\\site-packages (from requests->transformers) (3.4.3)\n",
      "Requirement already satisfied: idna<4,>=2.5 in c:\\users\\vlad\\miniconda3\\envs\\nlp\\lib\\site-packages (from requests->transformers) (3.10)\n",
      "Requirement already satisfied: urllib3<3,>=1.21.1 in c:\\users\\vlad\\miniconda3\\envs\\nlp\\lib\\site-packages (from requests->transformers) (2.5.0)\n",
      "Requirement already satisfied: certifi>=2017.4.17 in c:\\users\\vlad\\miniconda3\\envs\\nlp\\lib\\site-packages (from requests->transformers) (2025.8.3)\n"
     ]
    }
   ],
   "source": [
    "!pip install transformers torch accelerate"
   ]
  },
  {
   "cell_type": "code",
   "execution_count": 7,
   "id": "edc69fb0",
   "metadata": {},
   "outputs": [
    {
     "data": {
      "application/vnd.jupyter.widget-view+json": {
       "model_id": "9797eade70b3412485aaa6de28869bee",
       "version_major": 2,
       "version_minor": 0
      },
      "text/plain": [
       "Fetching 1 files:   0%|          | 0/1 [00:00<?, ?it/s]"
      ]
     },
     "metadata": {},
     "output_type": "display_data"
    },
    {
     "name": "stderr",
     "output_type": "stream",
     "text": [
      "Device set to use cpu\n"
     ]
    },
    {
     "name": "stdout",
     "output_type": "stream",
     "text": [
      "a table with chairs and a table cloth \n"
     ]
    }
   ],
   "source": [
    "# caption.py\n",
    "from transformers import pipeline\n",
    "\n",
    "captioner = pipeline(\n",
    "    task=\"image-to-text\",\n",
    "    model=\"nlpconnect/vit-gpt2-image-captioning\",  # smallest/easiest to run\n",
    "    device_map=\"auto\"  # uses GPU if available, otherwise CPU\n",
    ")\n",
    "\n",
    "# Replace with a local path or list of paths/URLs\n",
    "image = \"./image.jpg\"\n",
    "\n",
    "\n",
    "result = captioner(image, max_new_tokens=128)[0][\"generated_text\"]\n",
    "print(result)\n"
   ]
  }
 ],
 "metadata": {
  "kernelspec": {
   "display_name": "nlp",
   "language": "python",
   "name": "python3"
  },
  "language_info": {
   "codemirror_mode": {
    "name": "ipython",
    "version": 3
   },
   "file_extension": ".py",
   "mimetype": "text/x-python",
   "name": "python",
   "nbconvert_exporter": "python",
   "pygments_lexer": "ipython3",
   "version": "3.12.11"
  }
 },
 "nbformat": 4,
 "nbformat_minor": 5
}
